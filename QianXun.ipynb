{
 "cells": [
  {
   "cell_type": "code",
   "execution_count": 8,
   "metadata": {},
   "outputs": [],
   "source": [
    "import requests\n",
    "from lxml import etree\n",
    "from py2neo import *"
   ]
  },
  {
   "cell_type": "code",
   "execution_count": 9,
   "metadata": {},
   "outputs": [],
   "source": [
    "head = {\n",
    "    'User-Agent': 'Mozilla/5.0 (Macintosh; Intel Mac OS X 10_12_6) AppleWebKit/537.36 (KHTML, like Gecko) Chrome/71.0.3578.98 Safari/537.36'\n",
    "}\n",
    "graph = Graph(\"http://127.0.0.1:7474\", username=\"neo4j\", password=\"123456\")\n",
    "node_matcher = NodeMatcher(graph)\n",
    "r_matcher = RelationshipMatcher(graph)\n",
    "\n"
   ]
  },
  {
   "cell_type": "code",
   "execution_count": 10,
   "metadata": {},
   "outputs": [],
   "source": [
    "#爬取角色URL列表\n",
    "def create_role_list(movie_url):\n",
    "    html = requests.get(movie_url,headers=head)\n",
    "    html.encoding=\"utf-8\"\n",
    "    html = html.text\n",
    "    selector = etree.HTML(html)\n",
    "    content = selector.xpath(\"//html\")[0]\n",
    "    role_list = content.xpath(\"//div[@class='role-name']//a/@href\")\n",
    "    #name_list = content.xpath(\"//div[@class='role-name']/span/a/text()\")\n",
    "    role_list = [\"https://baike.baidu.com\"+i for i in role_list]\n",
    "    return role_list"
   ]
  },
  {
   "cell_type": "code",
   "execution_count": 11,
   "metadata": {},
   "outputs": [],
   "source": [
    "#爬取角色信息\n",
    "def role_info(url):\n",
    "    param = {}\n",
    "    html = requests.get(url,headers=head)\n",
    "    html.encoding=\"utf-8\"\n",
    "    html = html.text\n",
    "    selector = etree.HTML(html)\n",
    "    content = selector.xpath(\"//html\")[0]\n",
    "    img = content.xpath(\"//div[@class='summary-pic']//img/@src\")\n",
    "    if img:\n",
    "        param['img'] = img[0]\n",
    "    info_list = content.xpath(\"//dt[@class='basicInfo-item name']/text()\")\n",
    "    info_value = content.xpath(\"//dd[@class='basicInfo-item value']\")\n",
    "    info_len = len(info_list)\n",
    "    for i in range(0,info_len):\n",
    "        param[info_list[i].replace('\\xa0','')] = info_value[i].xpath(\"string(.)\").replace('\\n','')\n",
    "    \n",
    "    if param:\n",
    "        del param['中文名']\n",
    "    \n",
    "    return(param)\n",
    "    "
   ]
  },
  {
   "cell_type": "code",
   "execution_count": 12,
   "metadata": {},
   "outputs": [],
   "source": [
    "#爬取人际关系表 并结合和角色信息一并存入Neo4j数据库\n",
    "def create_relationship(role_url):\n",
    "    graph = Graph(\"http://127.0.0.1:7474\", username=\"neo4j\", password=\"123456\")\n",
    "    html = requests.get(role_url,headers=head)\n",
    "    html.encoding=\"utf-8\"\n",
    "    html = html.text\n",
    "    selector = etree.HTML(html)\n",
    "    content = selector.xpath(\"//html\")[0]\n",
    "    n_rel=len(content.xpath(\"//div/h2[contains(string(),'关系')]/ancestor::div/following-sibling::\\\n",
    "                            table[1]/tr[position()>1]\"))\n",
    "    role_name = content.xpath(\"//dd[@class='lemmaWgt-lemmaTitle-title']/h1/text()\")[0]\n",
    "    \n",
    "    source = node_matcher.match(name=role_name).first()\n",
    "    if not source:\n",
    "        param = role_info(\"https://baike.baidu.com/item/\"+role_name)\n",
    "        source = Node(\"role\",name=role_name,**param)\n",
    "        graph.create(source)\n",
    "        \n",
    "    for i in range(2,2+n_rel):\n",
    "        target_name = content.xpath(\"//div/h2[contains(string(),'关系')]/ \\\n",
    "                                    ancestor::div/following-sibling::table/tr[\"+str(i)+\"]/td[1]//text()\")[0]\n",
    "        rel = content.xpath(\"//div/h2[contains(string(),'关系')]/ancestor::div/\\\n",
    "                            following-sibling::table/tr[\"+str(i)+\"]/td[2]//text()\")[0]\n",
    "        desc = content.xpath(\"//div/h2[contains(string(),'关系')]/ancestor::\\\n",
    "                             div/following-sibling::table/tr[\"+str(i)+\"]/td[3]//text()\")[0]\n",
    "        target = node_matcher.match(name=target_name).first()\n",
    "        if not target:\n",
    "            param = role_info(\"https://baike.baidu.com/item/\"+target_name)\n",
    "            target = Node(\"role\",name=target_name,**param)\n",
    "            graph.create(target)\n",
    "        graph.create(Relationship(source, rel, target,describe = desc))\n",
    "       \n",
    "    \n",
    "    "
   ]
  },
  {
   "cell_type": "code",
   "execution_count": 13,
   "metadata": {},
   "outputs": [],
   "source": [
    "#执行\n",
    "\n",
    "graph = Graph(\"http://127.0.0.1:7474\", username=\"neo4j\", password=\"123456\")\n",
    "\n",
    "movie_url = \"https://baike.baidu.com/item/%E5%8D%83%E4%B8%8E%E5%8D%83%E5%AF%BB\"  #《千》百度百科\n",
    "role_list = create_role_list(movie_url)\n",
    "\n",
    "for i in role_list:\n",
    "    create_relationship(i)"
   ]
  },
  {
   "cell_type": "code",
   "execution_count": 14,
   "metadata": {},
   "outputs": [],
   "source": [
    "node_matcher = NodeMatcher(graph)\n",
    "r_matcher = RelationshipMatcher(graph)\n",
    "\n",
    "\n",
    "#手动调整信息\n",
    "graph = Graph(\"http://127.0.0.1:7474\", username=\"neo4j\", password=\"123456\")\n",
    "\n",
    "#删除假的“坊”\n",
    "graph.run(\"MATCH ()-[r:宝宝]->(n) DELETE r,n\")\n",
    "#添加真的坊关系\n",
    "tang = node_matcher.match(name='汤婆婆').first()\n",
    "fang = node_matcher.match(name='坊宝宝').first()\n",
    "graph.create(Relationship(tang,'宝宝',fang,describe='坊宝宝是汤屋的主管——汤婆婆的独子'))\n",
    "#添加无脸男关系\n",
    "lian = node_matcher.match(name='无脸男').first()\n",
    "qian = node_matcher.match(name='荻野千寻').first()\n",
    "graph.create(Relationship(lian,'喜欢',qian))\n",
    "\n",
    "#手动添加小玲信息\n",
    "ling = node_matcher.match(name='小玲').first()\n",
    "ling['img'] = \"https://gss3.bdstatic.com/-Po3dSag_xI4khGkpoWK1HF6hhy/baike/w%3D268%3Bg%3D0/sign=a7bc12155bdf8db1bc2e7b623118ba69/7af40ad162d9f2d3acf03762acec8a136227cc5e.jpg\"\n",
    "ling['性别'] = '女'\n",
    "graph.push(ling)"
   ]
  },
  {
   "cell_type": "code",
   "execution_count": 7,
   "metadata": {},
   "outputs": [],
   "source": [
    "graph.delete_all()"
   ]
  },
  {
   "cell_type": "code",
   "execution_count": null,
   "metadata": {},
   "outputs": [],
   "source": []
  }
 ],
 "metadata": {
  "kernelspec": {
   "display_name": "Python 3",
   "language": "python",
   "name": "python3"
  },
  "language_info": {
   "codemirror_mode": {
    "name": "ipython",
    "version": 3
   },
   "file_extension": ".py",
   "mimetype": "text/x-python",
   "name": "python",
   "nbconvert_exporter": "python",
   "pygments_lexer": "ipython3",
   "version": "3.7.1"
  }
 },
 "nbformat": 4,
 "nbformat_minor": 2
}
